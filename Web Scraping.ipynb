{
 "cells": [
  {
   "cell_type": "code",
   "execution_count": 1,
   "id": "d319c154",
   "metadata": {},
   "outputs": [],
   "source": [
    "import requests\n",
    "import pandas as pd\n",
    "from bs4 import BeautifulSoup"
   ]
  },
  {
   "cell_type": "code",
   "execution_count": 3,
   "id": "3c5fb495",
   "metadata": {},
   "outputs": [
    {
     "name": "stdout",
     "output_type": "stream",
     "text": [
      "<Response [200]>\n"
     ]
    }
   ],
   "source": [
    "url = \"https://webpages.charlotte.edu/mscipion/\"\n",
    "\n",
    "r= requests.get(url)\n",
    "print(r)"
   ]
  },
  {
   "cell_type": "code",
   "execution_count": 4,
   "id": "f5ecd14d",
   "metadata": {},
   "outputs": [],
   "source": [
    "soup = BeautifulSoup(r.text, \"lxml\")"
   ]
  },
  {
   "cell_type": "code",
   "execution_count": 7,
   "id": "00b7f34c",
   "metadata": {},
   "outputs": [
    {
     "name": "stdout",
     "output_type": "stream",
     "text": [
      "<table>\n",
      "<tr>\n",
      "<th>Student</th>\n",
      "<th>Favourite Computer Language</th>\n",
      "<th>Years of Experience</th>\n",
      "</tr>\n",
      "<tr>\n",
      "<td>Fred</td>\n",
      "<td>Kotlin</td>\n",
      "<td>4</td>\n",
      "</tr>\n",
      "<tr>\n",
      "<td>Paula</td>\n",
      "<td>Python</td>\n",
      "<td>2</td>\n",
      "</tr>\n",
      "<tr>\n",
      "<td>Ernst</td>\n",
      "<td>Java</td>\n",
      "<td>7</td>\n",
      "</tr>\n",
      "<tr>\n",
      "<td>Isabel</td>\n",
      "<td>C++</td>\n",
      "<td>3</td>\n",
      "</tr>\n",
      "<tr>\n",
      "<td>Tony</td>\n",
      "<td>Pearl</td>\n",
      "<td>7</td>\n",
      "</tr>\n",
      "<tr>\n",
      "<td>Maria</td>\n",
      "<td>Cobol</td>\n",
      "<td>15</td>\n",
      "</tr></table>\n"
     ]
    }
   ],
   "source": [
    "table = soup.find(\"table\")\n",
    "print(table)     #uncomment to see full output"
   ]
  },
  {
   "cell_type": "code",
   "execution_count": 9,
   "id": "8253a518",
   "metadata": {
    "scrolled": true
   },
   "outputs": [
    {
     "name": "stdout",
     "output_type": "stream",
     "text": [
      "[<th>Student</th>, <th>Favourite Computer Language</th>, <th>Years of Experience</th>]\n"
     ]
    }
   ],
   "source": [
    "headers = table.find_all(\"th\")\n",
    "print(headers)"
   ]
  },
  {
   "cell_type": "code",
   "execution_count": 10,
   "id": "75bd16fc",
   "metadata": {},
   "outputs": [
    {
     "name": "stdout",
     "output_type": "stream",
     "text": [
      "['Student', 'Favourite Computer Language', 'Years of Experience']\n"
     ]
    }
   ],
   "source": [
    "titles = []\n",
    "\n",
    "for i in headers:\n",
    "    title = i.text\n",
    "    titles.append(title)\n",
    "    \n",
    "print(titles)"
   ]
  },
  {
   "cell_type": "code",
   "execution_count": 11,
   "id": "bd40d3fc",
   "metadata": {},
   "outputs": [
    {
     "name": "stdout",
     "output_type": "stream",
     "text": [
      "Empty DataFrame\n",
      "Columns: [Student, Favourite Computer Language, Years of Experience]\n",
      "Index: []\n"
     ]
    }
   ],
   "source": [
    "df= pd.DataFrame(columns=titles)\n",
    "print(df)"
   ]
  },
  {
   "cell_type": "code",
   "execution_count": 13,
   "id": "1c0b9c03",
   "metadata": {
    "scrolled": true
   },
   "outputs": [
    {
     "name": "stdout",
     "output_type": "stream",
     "text": [
      "[<tr>\n",
      "<th>Student</th>\n",
      "<th>Favourite Computer Language</th>\n",
      "<th>Years of Experience</th>\n",
      "</tr>, <tr>\n",
      "<td>Fred</td>\n",
      "<td>Kotlin</td>\n",
      "<td>4</td>\n",
      "</tr>, <tr>\n",
      "<td>Paula</td>\n",
      "<td>Python</td>\n",
      "<td>2</td>\n",
      "</tr>, <tr>\n",
      "<td>Ernst</td>\n",
      "<td>Java</td>\n",
      "<td>7</td>\n",
      "</tr>, <tr>\n",
      "<td>Isabel</td>\n",
      "<td>C++</td>\n",
      "<td>3</td>\n",
      "</tr>, <tr>\n",
      "<td>Tony</td>\n",
      "<td>Pearl</td>\n",
      "<td>7</td>\n",
      "</tr>, <tr>\n",
      "<td>Maria</td>\n",
      "<td>Cobol</td>\n",
      "<td>15</td>\n",
      "</tr>]\n"
     ]
    }
   ],
   "source": [
    "rows = table.find_all(\"tr\")\n",
    "print(rows)           #uncomment to see full output"
   ]
  },
  {
   "cell_type": "code",
   "execution_count": 14,
   "id": "67441d59",
   "metadata": {
    "scrolled": true
   },
   "outputs": [
    {
     "name": "stdout",
     "output_type": "stream",
     "text": [
      "<tr>\n",
      "<td>Fred</td>\n",
      "<td>Kotlin</td>\n",
      "<td>4</td>\n",
      "</tr>\n",
      "<tr>\n",
      "<td>Paula</td>\n",
      "<td>Python</td>\n",
      "<td>2</td>\n",
      "</tr>\n",
      "<tr>\n",
      "<td>Ernst</td>\n",
      "<td>Java</td>\n",
      "<td>7</td>\n",
      "</tr>\n",
      "<tr>\n",
      "<td>Isabel</td>\n",
      "<td>C++</td>\n",
      "<td>3</td>\n",
      "</tr>\n",
      "<tr>\n",
      "<td>Tony</td>\n",
      "<td>Pearl</td>\n",
      "<td>7</td>\n",
      "</tr>\n",
      "<tr>\n",
      "<td>Maria</td>\n",
      "<td>Cobol</td>\n",
      "<td>15</td>\n",
      "</tr>\n"
     ]
    }
   ],
   "source": [
    "for i in rows[1:]:\n",
    "    print(i)   "
   ]
  },
  {
   "cell_type": "code",
   "execution_count": 15,
   "id": "d7f1ec5b",
   "metadata": {
    "scrolled": false
   },
   "outputs": [
    {
     "name": "stdout",
     "output_type": "stream",
     "text": [
      "[<td>Fred</td>, <td>Kotlin</td>, <td>4</td>, <td>Paula</td>, <td>Python</td>, <td>2</td>, <td>Ernst</td>, <td>Java</td>, <td>7</td>, <td>Isabel</td>, <td>C++</td>, <td>3</td>, <td>Tony</td>, <td>Pearl</td>, <td>7</td>, <td>Maria</td>, <td>Cobol</td>, <td>15</td>]\n",
      "[<td>Fred</td>, <td>Kotlin</td>, <td>4</td>, <td>Paula</td>, <td>Python</td>, <td>2</td>, <td>Ernst</td>, <td>Java</td>, <td>7</td>, <td>Isabel</td>, <td>C++</td>, <td>3</td>, <td>Tony</td>, <td>Pearl</td>, <td>7</td>, <td>Maria</td>, <td>Cobol</td>, <td>15</td>]\n",
      "[<td>Fred</td>, <td>Kotlin</td>, <td>4</td>, <td>Paula</td>, <td>Python</td>, <td>2</td>, <td>Ernst</td>, <td>Java</td>, <td>7</td>, <td>Isabel</td>, <td>C++</td>, <td>3</td>, <td>Tony</td>, <td>Pearl</td>, <td>7</td>, <td>Maria</td>, <td>Cobol</td>, <td>15</td>]\n",
      "[<td>Fred</td>, <td>Kotlin</td>, <td>4</td>, <td>Paula</td>, <td>Python</td>, <td>2</td>, <td>Ernst</td>, <td>Java</td>, <td>7</td>, <td>Isabel</td>, <td>C++</td>, <td>3</td>, <td>Tony</td>, <td>Pearl</td>, <td>7</td>, <td>Maria</td>, <td>Cobol</td>, <td>15</td>]\n",
      "[<td>Fred</td>, <td>Kotlin</td>, <td>4</td>, <td>Paula</td>, <td>Python</td>, <td>2</td>, <td>Ernst</td>, <td>Java</td>, <td>7</td>, <td>Isabel</td>, <td>C++</td>, <td>3</td>, <td>Tony</td>, <td>Pearl</td>, <td>7</td>, <td>Maria</td>, <td>Cobol</td>, <td>15</td>]\n",
      "[<td>Fred</td>, <td>Kotlin</td>, <td>4</td>, <td>Paula</td>, <td>Python</td>, <td>2</td>, <td>Ernst</td>, <td>Java</td>, <td>7</td>, <td>Isabel</td>, <td>C++</td>, <td>3</td>, <td>Tony</td>, <td>Pearl</td>, <td>7</td>, <td>Maria</td>, <td>Cobol</td>, <td>15</td>]\n"
     ]
    }
   ],
   "source": [
    "for i in rows[1:]:\n",
    "    data = table.find_all(\"td\")\n",
    "    print(data)"
   ]
  },
  {
   "cell_type": "code",
   "execution_count": 16,
   "id": "c2aeb247",
   "metadata": {
    "scrolled": true
   },
   "outputs": [
    {
     "name": "stdout",
     "output_type": "stream",
     "text": [
      "[<td>Fred</td>, <td>Kotlin</td>, <td>4</td>, <td>Paula</td>, <td>Python</td>, <td>2</td>, <td>Ernst</td>, <td>Java</td>, <td>7</td>, <td>Isabel</td>, <td>C++</td>, <td>3</td>, <td>Tony</td>, <td>Pearl</td>, <td>7</td>, <td>Maria</td>, <td>Cobol</td>, <td>15</td>]\n",
      "['Fred', 'Kotlin', '4', 'Paula', 'Python', '2', 'Ernst', 'Java', '7', 'Isabel', 'C++', '3', 'Tony', 'Pearl', '7', 'Maria', 'Cobol', '15']\n",
      "[<td>Fred</td>, <td>Kotlin</td>, <td>4</td>, <td>Paula</td>, <td>Python</td>, <td>2</td>, <td>Ernst</td>, <td>Java</td>, <td>7</td>, <td>Isabel</td>, <td>C++</td>, <td>3</td>, <td>Tony</td>, <td>Pearl</td>, <td>7</td>, <td>Maria</td>, <td>Cobol</td>, <td>15</td>]\n",
      "['Fred', 'Kotlin', '4', 'Paula', 'Python', '2', 'Ernst', 'Java', '7', 'Isabel', 'C++', '3', 'Tony', 'Pearl', '7', 'Maria', 'Cobol', '15']\n",
      "[<td>Fred</td>, <td>Kotlin</td>, <td>4</td>, <td>Paula</td>, <td>Python</td>, <td>2</td>, <td>Ernst</td>, <td>Java</td>, <td>7</td>, <td>Isabel</td>, <td>C++</td>, <td>3</td>, <td>Tony</td>, <td>Pearl</td>, <td>7</td>, <td>Maria</td>, <td>Cobol</td>, <td>15</td>]\n",
      "['Fred', 'Kotlin', '4', 'Paula', 'Python', '2', 'Ernst', 'Java', '7', 'Isabel', 'C++', '3', 'Tony', 'Pearl', '7', 'Maria', 'Cobol', '15']\n",
      "[<td>Fred</td>, <td>Kotlin</td>, <td>4</td>, <td>Paula</td>, <td>Python</td>, <td>2</td>, <td>Ernst</td>, <td>Java</td>, <td>7</td>, <td>Isabel</td>, <td>C++</td>, <td>3</td>, <td>Tony</td>, <td>Pearl</td>, <td>7</td>, <td>Maria</td>, <td>Cobol</td>, <td>15</td>]\n",
      "['Fred', 'Kotlin', '4', 'Paula', 'Python', '2', 'Ernst', 'Java', '7', 'Isabel', 'C++', '3', 'Tony', 'Pearl', '7', 'Maria', 'Cobol', '15']\n",
      "[<td>Fred</td>, <td>Kotlin</td>, <td>4</td>, <td>Paula</td>, <td>Python</td>, <td>2</td>, <td>Ernst</td>, <td>Java</td>, <td>7</td>, <td>Isabel</td>, <td>C++</td>, <td>3</td>, <td>Tony</td>, <td>Pearl</td>, <td>7</td>, <td>Maria</td>, <td>Cobol</td>, <td>15</td>]\n",
      "['Fred', 'Kotlin', '4', 'Paula', 'Python', '2', 'Ernst', 'Java', '7', 'Isabel', 'C++', '3', 'Tony', 'Pearl', '7', 'Maria', 'Cobol', '15']\n",
      "[<td>Fred</td>, <td>Kotlin</td>, <td>4</td>, <td>Paula</td>, <td>Python</td>, <td>2</td>, <td>Ernst</td>, <td>Java</td>, <td>7</td>, <td>Isabel</td>, <td>C++</td>, <td>3</td>, <td>Tony</td>, <td>Pearl</td>, <td>7</td>, <td>Maria</td>, <td>Cobol</td>, <td>15</td>]\n",
      "['Fred', 'Kotlin', '4', 'Paula', 'Python', '2', 'Ernst', 'Java', '7', 'Isabel', 'C++', '3', 'Tony', 'Pearl', '7', 'Maria', 'Cobol', '15']\n"
     ]
    }
   ],
   "source": [
    "for i in rows[1:]:\n",
    "    data = table.find_all(\"td\")\n",
    "    print(data)\n",
    "    row = [tr.text for tr in data]\n",
    "    print(row)\n",
    "\n",
    "# We now have a list called rows with all the data in the table"
   ]
  },
  {
   "cell_type": "code",
   "execution_count": 17,
   "id": "984b4c1c",
   "metadata": {},
   "outputs": [
    {
     "data": {
      "text/plain": [
       "[<tr>\n",
       " <td>Fred</td>\n",
       " <td>Kotlin</td>\n",
       " <td>4</td>\n",
       " </tr>]"
      ]
     },
     "execution_count": 17,
     "metadata": {},
     "output_type": "execute_result"
    }
   ],
   "source": [
    "# Remember: rows is a long list. Each list item has tags.\n",
    "# Example:\n",
    "rows[1:2]"
   ]
  },
  {
   "cell_type": "code",
   "execution_count": 18,
   "id": "9bdfa8c3",
   "metadata": {},
   "outputs": [
    {
     "data": {
      "text/html": [
       "<div>\n",
       "<style scoped>\n",
       "    .dataframe tbody tr th:only-of-type {\n",
       "        vertical-align: middle;\n",
       "    }\n",
       "\n",
       "    .dataframe tbody tr th {\n",
       "        vertical-align: top;\n",
       "    }\n",
       "\n",
       "    .dataframe thead th {\n",
       "        text-align: right;\n",
       "    }\n",
       "</style>\n",
       "<table border=\"1\" class=\"dataframe\">\n",
       "  <thead>\n",
       "    <tr style=\"text-align: right;\">\n",
       "      <th></th>\n",
       "      <th>Student</th>\n",
       "      <th>Favourite Computer Language</th>\n",
       "      <th>Years of Experience</th>\n",
       "    </tr>\n",
       "  </thead>\n",
       "  <tbody>\n",
       "    <tr>\n",
       "      <th>0</th>\n",
       "      <td>Fred</td>\n",
       "      <td>Kotlin</td>\n",
       "      <td>4</td>\n",
       "    </tr>\n",
       "    <tr>\n",
       "      <th>1</th>\n",
       "      <td>Paula</td>\n",
       "      <td>Python</td>\n",
       "      <td>2</td>\n",
       "    </tr>\n",
       "    <tr>\n",
       "      <th>2</th>\n",
       "      <td>Ernst</td>\n",
       "      <td>Java</td>\n",
       "      <td>7</td>\n",
       "    </tr>\n",
       "    <tr>\n",
       "      <th>3</th>\n",
       "      <td>Isabel</td>\n",
       "      <td>C++</td>\n",
       "      <td>3</td>\n",
       "    </tr>\n",
       "    <tr>\n",
       "      <th>4</th>\n",
       "      <td>Tony</td>\n",
       "      <td>Pearl</td>\n",
       "      <td>7</td>\n",
       "    </tr>\n",
       "    <tr>\n",
       "      <th>5</th>\n",
       "      <td>Maria</td>\n",
       "      <td>Cobol</td>\n",
       "      <td>15</td>\n",
       "    </tr>\n",
       "  </tbody>\n",
       "</table>\n",
       "</div>"
      ],
      "text/plain": [
       "  Student Favourite Computer Language Years of Experience\n",
       "0    Fred                      Kotlin                   4\n",
       "1   Paula                      Python                   2\n",
       "2   Ernst                        Java                   7\n",
       "3  Isabel                         C++                   3\n",
       "4    Tony                       Pearl                   7\n",
       "5   Maria                       Cobol                  15"
      ]
     },
     "execution_count": 18,
     "metadata": {},
     "output_type": "execute_result"
    }
   ],
   "source": [
    "for i in rows[1:]:\n",
    "    data = i.find_all(\"td\")            # loop around, find the td tag in the first row. The td tag contain the data in the first row\n",
    "    row = [tr.text for tr in data]     # remove the td tags from the first row and only keep the text\n",
    "    l =len(df)                         # initially, the size of the dataframe is 0 but as we loop around it increases (more rows get added)\n",
    "    df.loc[l]= row                     # cleverly, the rows of the dataframe df get filled up with the stripped up rows of the table\n",
    "\n",
    "df.head(10)  "
   ]
  },
  {
   "cell_type": "code",
   "execution_count": 19,
   "id": "f32c4fc8",
   "metadata": {},
   "outputs": [
    {
     "data": {
      "text/plain": [
       "6"
      ]
     },
     "execution_count": 19,
     "metadata": {},
     "output_type": "execute_result"
    }
   ],
   "source": [
    "len(df)"
   ]
  }
 ],
 "metadata": {
  "kernelspec": {
   "display_name": "Python 3 (ipykernel)",
   "language": "python",
   "name": "python3"
  },
  "language_info": {
   "codemirror_mode": {
    "name": "ipython",
    "version": 3
   },
   "file_extension": ".py",
   "mimetype": "text/x-python",
   "name": "python",
   "nbconvert_exporter": "python",
   "pygments_lexer": "ipython3",
   "version": "3.11.4"
  }
 },
 "nbformat": 4,
 "nbformat_minor": 5
}
